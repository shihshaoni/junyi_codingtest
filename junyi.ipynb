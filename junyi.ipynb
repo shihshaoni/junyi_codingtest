{
  "nbformat": 4,
  "nbformat_minor": 0,
  "metadata": {
    "colab": {
      "name": "均一.ipynb",
      "provenance": []
    },
    "kernelspec": {
      "name": "python3",
      "display_name": "Python 3"
    },
    "language_info": {
      "name": "python"
    }
  },
  "cells": [
    {
      "cell_type": "code",
      "metadata": {
        "colab": {
          "base_uri": "https://localhost:8080/"
        },
        "id": "8Z8Ya4TT2wqk",
        "outputId": "153d153b-2167-4680-8bc1-2020a94b3621"
      },
      "source": [
        "a = (\"abcde f g\") \n",
        "reverse = a[len(a)::-1] # slicing \n",
        "print (reverse) # print the reversed string"
      ],
      "execution_count": 31,
      "outputs": [
        {
          "output_type": "stream",
          "text": [
            "g f edcba\n"
          ],
          "name": "stdout"
        }
      ]
    },
    {
      "cell_type": "code",
      "metadata": {
        "colab": {
          "base_uri": "https://localhost:8080/"
        },
        "id": "ERqNVHV20F4H",
        "outputId": "a8fca7a0-26a0-407d-e050-ca6cb3f72615"
      },
      "source": [
        "input = 15\n",
        "ans = []\n",
        "for i in range(1, input+1):\n",
        "  if i % 3 == 0 and i % 5 == 0:\n",
        "    ans.append(i)\n",
        "  elif i % 3 == 0 or i % 5 == 0:\n",
        "    continue\n",
        "  else:\n",
        "    ans.append(i)\n",
        "print(len(ans))"
      ],
      "execution_count": null,
      "outputs": [
        {
          "output_type": "stream",
          "text": [
            "9\n"
          ],
          "name": "stdout"
        }
      ]
    },
    {
      "cell_type": "code",
      "metadata": {
        "colab": {
          "base_uri": "https://localhost:8080/",
          "height": 125
        },
        "id": "4tPStFIntNjg",
        "outputId": "c77c01c9-bf91-4359-9a21-0e6e7da5892a"
      },
      "source": [
        "3.\n",
        "從標著「混合」的袋子裡拿，將有兩種可能。\n",
        "一種是拿到鉛筆，則這個袋子就會是裝有鉛筆的袋子，上面標示「鉛筆」的袋子就會是裝有原子筆的袋子，上面標示「原子筆」的袋子就會是混合的袋子。\n",
        "另一種是拿到原子筆，則這個袋子就會是裝有原子筆的袋子，上面標示「鉛筆」的袋子就會是混合的袋子，上面標示「原子筆」的袋子就會是裝有鉛筆的袋子。"
      ],
      "execution_count": null,
      "outputs": [
        {
          "output_type": "error",
          "ename": "SyntaxError",
          "evalue": "ignored",
          "traceback": [
            "\u001b[0;36m  File \u001b[0;32m\"<ipython-input-24-d9f2784b54c6>\"\u001b[0;36m, line \u001b[0;32m2\u001b[0m\n\u001b[0;31m    從標著「混合」的袋子裡拿，將有兩種可能。\u001b[0m\n\u001b[0m                       ^\u001b[0m\n\u001b[0;31mSyntaxError\u001b[0m\u001b[0;31m:\u001b[0m invalid character in identifier\n"
          ]
        }
      ]
    },
    {
      "cell_type": "code",
      "metadata": {
        "colab": {
          "base_uri": "https://localhost:8080/",
          "height": 125
        },
        "id": "wt_Ir4jXxs83",
        "outputId": "b67ae3b5-ab08-429d-9944-18bc4ff112ee"
      },
      "source": [
        "4.\n",
        "870這個數字是無意義的。為了不重複計算，270*3應該要減掉60再加上沒付出去給樂園的150，總共才會是900。\n",
        "每個人最終繳給遊樂園的錢是250，250*3=750。多退回的150元被分成兩部分，60元被服務生偷走，90元回到遊客手上，一個人拿回30元。\n",
        "比起一開始每人付出的300元，每個人應該要多拿回50元，但因爲被服務生偷走60元，由三人均分此60元，所以每個人只拿回30元，每個人付出270元。\n",
        "900由每個人所付270元加上退款的90元所組成。"
      ],
      "execution_count": null,
      "outputs": [
        {
          "output_type": "error",
          "ename": "SyntaxError",
          "evalue": "ignored",
          "traceback": [
            "\u001b[0;36m  File \u001b[0;32m\"<ipython-input-30-7ab9b2be9209>\"\u001b[0;36m, line \u001b[0;32m2\u001b[0m\n\u001b[0;31m    870這個數字是無意義的。\u001b[0m\n\u001b[0m                ^\u001b[0m\n\u001b[0;31mSyntaxError\u001b[0m\u001b[0;31m:\u001b[0m invalid character in identifier\n"
          ]
        }
      ]
    }
  ]
}